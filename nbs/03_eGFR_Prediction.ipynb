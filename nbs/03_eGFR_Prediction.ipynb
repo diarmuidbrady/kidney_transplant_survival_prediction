{
 "cells": [
  {
   "cell_type": "markdown",
   "id": "8add42ef-b520-4333-9c3c-67828e6f359a",
   "metadata": {},
   "source": [
    "# Predicting eGFR at 1 year\n",
    "> This notebook contains regression models used to predict the eGFR at 1 year variable.\n",
    "\n"
   ]
  },
  {
   "cell_type": "markdown",
   "id": "bb1150fd-a1da-4b6f-b686-47962ec14906",
   "metadata": {},
   "source": [
    "We evaluated one statistical model (linear regression) and three machine learning models (XGBoost regression, Random Forest regression and Support Vector regression).\n",
    "\n",
    "The first half of the notebook follows the following layout:\n",
    "1. Import Libraries \n",
    "2. Sorting and Splitting Data\n",
    "3. Linear Regression Model\n",
    "4. XGBoost Regression Model\n",
    "5. Random Forest Regression Model\n",
    "6. Support Vector Regression Model\n",
    "\n",
    "The next part compares the models using the T-Test.\n",
    "\n",
    "We then predict the eGFR at 1 year variable without the PRS scores. In this section we implemented the same models as before. \n"
   ]
  },
  {
   "cell_type": "code",
   "execution_count": null,
   "id": "cf267c1d-a5f7-4c28-b910-da6cdb0deefb",
   "metadata": {},
   "outputs": [],
   "source": [
    "#| default_exp prediction"
   ]
  },
  {
   "cell_type": "code",
   "execution_count": null,
   "id": "e5b97c18-f998-4ebb-9597-0bc23b5299ef",
   "metadata": {},
   "outputs": [],
   "source": [
    "#| hide\n",
    "from nbdev.showdoc import *"
   ]
  },
  {
   "cell_type": "markdown",
   "id": "2d109fba-d4dd-458a-8cb8-6e920b57299f",
   "metadata": {},
   "source": [
    "## 1. Import Libraries"
   ]
  },
  {
   "cell_type": "code",
   "execution_count": null,
   "id": "69104d1d-5fa1-4ad0-8f81-9fd7b03337ae",
   "metadata": {},
   "outputs": [],
   "source": [
    "#| export\n",
    "import pandas as pd\n",
    "import numpy as np\n",
    "import matplotlib.pyplot as plt\n",
    "import seaborn as sns\n",
    "from sklearn.metrics import mean_squared_error, r2_score\n",
    "from sklearn.model_selection import train_test_split\n",
    "from sklearn.linear_model import LinearRegression, Lasso\n",
    "import xgboost as xgb\n",
    "from sklearn.model_selection import KFold\n",
    "#from sklearn.model_selection import cross_val_score\n",
    "from sklearn.ensemble import RandomForestRegressor\n",
    "from sklearn.svm import SVR\n",
    "from sklearn.model_selection import GridSearchCV\n",
    "from tabulate import tabulate\n",
    "\n",
    "df_pheno = pd.read_pickle('../../../D/2023-ca4021-bradyd-35-mcdaida-3/data/proc/pheno_cluster.pkl')"
   ]
  },
  {
   "cell_type": "code",
   "execution_count": null,
   "id": "288a3523-dc6e-4688-ade2-037f2ce206d7",
   "metadata": {},
   "outputs": [
    {
     "data": {
      "text/plain": [
       "Index(['DonAge', 'RecAge', 'DonSex', 'RecSex', 'SexMismatch', 'Year',\n",
       "       'IntracranialHaemorrhage', 'RecPC1', 'RecHypertensionPRS',\n",
       "       'DonHypertensionPRS', 'DoneGFRPRS', 'DonStrokePRS', 'RecHAKVPRS',\n",
       "       'ColdIschemiaTime', 'GraftNo', 'eGFR1Year', 'eGFR5Year',\n",
       "       'GraftSurvivalDays', 'MClustClusters', 'KamilaClusters'],\n",
       "      dtype='object')"
      ]
     },
     "execution_count": null,
     "metadata": {},
     "output_type": "execute_result"
    }
   ],
   "source": [
    "df_pheno.columns"
   ]
  },
  {
   "cell_type": "code",
   "execution_count": null,
   "id": "717cfe6a-f919-4a6c-9aa1-8ea0b790d1ed",
   "metadata": {},
   "outputs": [],
   "source": [
    "#| export\n",
    "def evaluate_model(predict, y_test):\n",
    "    ### Calculate the mean squared error\n",
    "    ## Average squared difference between the observed and the predicted values.\n",
    "    ### Calculate the absolute errors\n",
    "    ### Difference between the observed and the predicted values.\n",
    "    ## R squared score\n",
    "    ## Explains to what extent the variance of one variable explains the variance of the second variable.\n",
    "    rmse = np.sqrt(mean_squared_error(y_test, predict))\n",
    "    errors = abs(predict - y_test)\n",
    "    mae = np.mean(errors)\n",
    "    r_square = r2_score(y_test, predict)\n",
    "    \n",
    "    table = [['RMSE', 'MAE', 'R Squared'], [rmse, mae, r_square]]\n",
    "    print(tabulate(table, headers='firstrow', tablefmt='fancy_grid'))\n",
    "    \n",
    "    ## Return list of errors in an array\n",
    "    difference = y_test - predict\n",
    "    error_array = np.array(difference)\n",
    "    return error_array\n"
   ]
  },
  {
   "cell_type": "markdown",
   "id": "249c4a49-24c6-43da-b0aa-4d710ff3f673",
   "metadata": {},
   "source": [
    "## 2. Sorting and Splitting Data"
   ]
  },
  {
   "cell_type": "code",
   "execution_count": null,
   "id": "4aa3bd7e-f632-4435-9f31-30c082edc5e1",
   "metadata": {},
   "outputs": [
    {
     "data": {
      "text/plain": [
       "DonAge                      float64\n",
       "RecAge                      float64\n",
       "DonSex                     category\n",
       "RecSex                     category\n",
       "SexMismatch                    bool\n",
       "Year                        float64\n",
       "IntracranialHaemorrhage        bool\n",
       "RecPC1                      float64\n",
       "RecHypertensionPRS          float64\n",
       "DonHypertensionPRS          float64\n",
       "DoneGFRPRS                  float64\n",
       "DonStrokePRS                float64\n",
       "RecHAKVPRS                  float64\n",
       "ColdIschemiaTime            float64\n",
       "GraftNo                     float64\n",
       "eGFR1Year                   float64\n",
       "eGFR5Year                   float64\n",
       "GraftSurvivalDays           float64\n",
       "MClustClusters             category\n",
       "KamilaClusters             category\n",
       "dtype: object"
      ]
     },
     "execution_count": null,
     "metadata": {},
     "output_type": "execute_result"
    }
   ],
   "source": [
    "df_pheno.dtypes"
   ]
  },
  {
   "cell_type": "code",
   "execution_count": null,
   "id": "f3711bcb-fe49-44a1-9806-1ac577aaadad",
   "metadata": {},
   "outputs": [],
   "source": [
    "## Changing column RecSex/DonSex from category to type int\n",
    "df_pheno['DonSex'].replace(['Male', 'Female'], [0,1], inplace=True)\n",
    "df_pheno['RecSex'].replace(['Male', 'Female'], [0,1], inplace=True)\n",
    "df_pheno['DonSex'] = df_pheno['DonSex'].astype(int)\n",
    "df_pheno['RecSex'] = df_pheno['RecSex'].astype(int)\n",
    "\n",
    "## remove null values in eGFR 1 year\n",
    "df_pheno = df_pheno.dropna(subset=['eGFR1Year'])"
   ]
  },
  {
   "cell_type": "code",
   "execution_count": null,
   "id": "de95c3eb-78b6-4164-91a9-908a110e7ef6",
   "metadata": {},
   "outputs": [
    {
     "data": {
      "text/plain": [
       "DonAge                      float64\n",
       "RecAge                      float64\n",
       "DonSex                        int64\n",
       "RecSex                        int64\n",
       "SexMismatch                    bool\n",
       "Year                        float64\n",
       "IntracranialHaemorrhage        bool\n",
       "RecPC1                      float64\n",
       "RecHypertensionPRS          float64\n",
       "DonHypertensionPRS          float64\n",
       "DoneGFRPRS                  float64\n",
       "DonStrokePRS                float64\n",
       "RecHAKVPRS                  float64\n",
       "ColdIschemiaTime            float64\n",
       "GraftNo                     float64\n",
       "eGFR1Year                   float64\n",
       "eGFR5Year                   float64\n",
       "GraftSurvivalDays           float64\n",
       "MClustClusters             category\n",
       "KamilaClusters             category\n",
       "dtype: object"
      ]
     },
     "execution_count": null,
     "metadata": {},
     "output_type": "execute_result"
    }
   ],
   "source": [
    "df_pheno.dtypes"
   ]
  },
  {
   "cell_type": "code",
   "execution_count": null,
   "id": "8fbc4e4d-ab21-46e9-bee3-c1eb6f827814",
   "metadata": {},
   "outputs": [],
   "source": [
    "## Need to drop 'eGFR5Year' 'GraftSurvivalDays' as not available pre transplant\n",
    "## 'MClustClusters' 'KamilaClusters' as this is for the cluster-prediction\n",
    "df_pheno = df_pheno.drop(['eGFR5Year', 'GraftSurvivalDays', 'MClustClusters', 'KamilaClusters'], axis=1)"
   ]
  },
  {
   "cell_type": "code",
   "execution_count": null,
   "id": "d8d5bb37-86e9-453d-aaca-2edf18d9d253",
   "metadata": {},
   "outputs": [
    {
     "data": {
      "text/html": [
       "<div>\n",
       "<style scoped>\n",
       "    .dataframe tbody tr th:only-of-type {\n",
       "        vertical-align: middle;\n",
       "    }\n",
       "\n",
       "    .dataframe tbody tr th {\n",
       "        vertical-align: top;\n",
       "    }\n",
       "\n",
       "    .dataframe thead th {\n",
       "        text-align: right;\n",
       "    }\n",
       "</style>\n",
       "<table border=\"1\" class=\"dataframe\">\n",
       "  <thead>\n",
       "    <tr style=\"text-align: right;\">\n",
       "      <th></th>\n",
       "      <th>DonAge</th>\n",
       "      <th>RecAge</th>\n",
       "      <th>DonSex</th>\n",
       "      <th>RecSex</th>\n",
       "      <th>SexMismatch</th>\n",
       "      <th>Year</th>\n",
       "      <th>IntracranialHaemorrhage</th>\n",
       "      <th>RecPC1</th>\n",
       "      <th>RecHypertensionPRS</th>\n",
       "      <th>DonHypertensionPRS</th>\n",
       "      <th>DoneGFRPRS</th>\n",
       "      <th>DonStrokePRS</th>\n",
       "      <th>RecHAKVPRS</th>\n",
       "      <th>ColdIschemiaTime</th>\n",
       "      <th>GraftNo</th>\n",
       "      <th>eGFR1Year</th>\n",
       "    </tr>\n",
       "  </thead>\n",
       "  <tbody>\n",
       "    <tr>\n",
       "      <th>0</th>\n",
       "      <td>25.0</td>\n",
       "      <td>54.0</td>\n",
       "      <td>1</td>\n",
       "      <td>1</td>\n",
       "      <td>True</td>\n",
       "      <td>2000.0</td>\n",
       "      <td>False</td>\n",
       "      <td>-0.001810</td>\n",
       "      <td>0.574557</td>\n",
       "      <td>0.041781</td>\n",
       "      <td>-0.068460</td>\n",
       "      <td>-2.471242</td>\n",
       "      <td>-0.329893</td>\n",
       "      <td>1080.0</td>\n",
       "      <td>1.0</td>\n",
       "      <td>37.016586</td>\n",
       "    </tr>\n",
       "    <tr>\n",
       "      <th>1</th>\n",
       "      <td>37.0</td>\n",
       "      <td>35.0</td>\n",
       "      <td>0</td>\n",
       "      <td>0</td>\n",
       "      <td>True</td>\n",
       "      <td>2001.0</td>\n",
       "      <td>False</td>\n",
       "      <td>-0.009447</td>\n",
       "      <td>-0.374240</td>\n",
       "      <td>0.829304</td>\n",
       "      <td>0.975353</td>\n",
       "      <td>0.069456</td>\n",
       "      <td>0.439058</td>\n",
       "      <td>1110.0</td>\n",
       "      <td>1.0</td>\n",
       "      <td>75.068169</td>\n",
       "    </tr>\n",
       "    <tr>\n",
       "      <th>2</th>\n",
       "      <td>22.0</td>\n",
       "      <td>53.0</td>\n",
       "      <td>1</td>\n",
       "      <td>1</td>\n",
       "      <td>True</td>\n",
       "      <td>2002.0</td>\n",
       "      <td>False</td>\n",
       "      <td>-0.006079</td>\n",
       "      <td>0.050664</td>\n",
       "      <td>0.204120</td>\n",
       "      <td>-0.613161</td>\n",
       "      <td>-0.701665</td>\n",
       "      <td>0.004753</td>\n",
       "      <td>1102.0</td>\n",
       "      <td>1.0</td>\n",
       "      <td>59.602940</td>\n",
       "    </tr>\n",
       "    <tr>\n",
       "      <th>3</th>\n",
       "      <td>48.0</td>\n",
       "      <td>33.0</td>\n",
       "      <td>1</td>\n",
       "      <td>0</td>\n",
       "      <td>False</td>\n",
       "      <td>2002.0</td>\n",
       "      <td>True</td>\n",
       "      <td>-0.005711</td>\n",
       "      <td>-0.178995</td>\n",
       "      <td>0.322234</td>\n",
       "      <td>-0.446593</td>\n",
       "      <td>-0.399453</td>\n",
       "      <td>-1.000807</td>\n",
       "      <td>740.0</td>\n",
       "      <td>1.0</td>\n",
       "      <td>50.073505</td>\n",
       "    </tr>\n",
       "    <tr>\n",
       "      <th>4</th>\n",
       "      <td>39.0</td>\n",
       "      <td>61.0</td>\n",
       "      <td>0</td>\n",
       "      <td>0</td>\n",
       "      <td>True</td>\n",
       "      <td>1999.0</td>\n",
       "      <td>False</td>\n",
       "      <td>-0.010986</td>\n",
       "      <td>-0.090834</td>\n",
       "      <td>-0.195021</td>\n",
       "      <td>1.232662</td>\n",
       "      <td>1.297929</td>\n",
       "      <td>-1.184922</td>\n",
       "      <td>1072.0</td>\n",
       "      <td>1.0</td>\n",
       "      <td>43.704456</td>\n",
       "    </tr>\n",
       "  </tbody>\n",
       "</table>\n",
       "</div>"
      ],
      "text/plain": [
       "   DonAge  RecAge  DonSex  RecSex  SexMismatch    Year  \\\n",
       "0    25.0    54.0       1       1         True  2000.0   \n",
       "1    37.0    35.0       0       0         True  2001.0   \n",
       "2    22.0    53.0       1       1         True  2002.0   \n",
       "3    48.0    33.0       1       0        False  2002.0   \n",
       "4    39.0    61.0       0       0         True  1999.0   \n",
       "\n",
       "   IntracranialHaemorrhage    RecPC1  RecHypertensionPRS  DonHypertensionPRS  \\\n",
       "0                    False -0.001810            0.574557            0.041781   \n",
       "1                    False -0.009447           -0.374240            0.829304   \n",
       "2                    False -0.006079            0.050664            0.204120   \n",
       "3                     True -0.005711           -0.178995            0.322234   \n",
       "4                    False -0.010986           -0.090834           -0.195021   \n",
       "\n",
       "   DoneGFRPRS  DonStrokePRS  RecHAKVPRS  ColdIschemiaTime  GraftNo  eGFR1Year  \n",
       "0   -0.068460     -2.471242   -0.329893            1080.0      1.0  37.016586  \n",
       "1    0.975353      0.069456    0.439058            1110.0      1.0  75.068169  \n",
       "2   -0.613161     -0.701665    0.004753            1102.0      1.0  59.602940  \n",
       "3   -0.446593     -0.399453   -1.000807             740.0      1.0  50.073505  \n",
       "4    1.232662      1.297929   -1.184922            1072.0      1.0  43.704456  "
      ]
     },
     "execution_count": null,
     "metadata": {},
     "output_type": "execute_result"
    }
   ],
   "source": [
    "df_pheno.head()"
   ]
  },
  {
   "cell_type": "code",
   "execution_count": null,
   "id": "a1b38573-46cc-407f-9167-6fa0474370ec",
   "metadata": {},
   "outputs": [],
   "source": [
    "x = df_pheno.drop(['eGFR1Year'], axis = 1)\n",
    "y = df_pheno['eGFR1Year']\n",
    "x_train, x_test, y_train, y_test = train_test_split(x, y, test_size=0.2, random_state=123)"
   ]
  },
  {
   "cell_type": "markdown",
   "id": "94015e76-2900-4d46-9054-c4421f958893",
   "metadata": {},
   "source": [
    "## 3. Linear Regression Model"
   ]
  },
  {
   "cell_type": "code",
   "execution_count": null,
   "id": "e8da815a-4278-4462-86be-12a8c4544051",
   "metadata": {},
   "outputs": [],
   "source": [
    "lin_reg = LinearRegression()\n",
    "lin_reg.fit(x_train, y_train)\n",
    "predicts = lin_reg.predict(x_test)"
   ]
  },
  {
   "cell_type": "code",
   "execution_count": null,
   "id": "9fe24107-70c7-40ec-99ac-3bf80c19684f",
   "metadata": {},
   "outputs": [
    {
     "name": "stdout",
     "output_type": "stream",
     "text": [
      "╒════════╤════════╤═════════════╕\n",
      "│   RMSE │    MAE │   R Squared │\n",
      "╞════════╪════════╪═════════════╡\n",
      "│ 15.405 │ 12.438 │    0.295026 │\n",
      "╘════════╧════════╧═════════════╛\n"
     ]
    }
   ],
   "source": [
    "error = evaluate_model(predicts, y_test)"
   ]
  },
  {
   "cell_type": "markdown",
   "id": "37316b23-c0ec-43fc-9edc-f763f3e7411c",
   "metadata": {},
   "source": [
    "### Regularization and hyperparameter tuning"
   ]
  },
  {
   "cell_type": "code",
   "execution_count": null,
   "id": "2b03070c-bb60-4a1c-96e0-ccdab7d9c1dd",
   "metadata": {},
   "outputs": [
    {
     "name": "stdout",
     "output_type": "stream",
     "text": [
      "╒═════════╤═════════╤═════════════╕\n",
      "│    RMSE │     MAE │   R Squared │\n",
      "╞═════════╪═════════╪═════════════╡\n",
      "│ 15.3837 │ 12.4184 │     0.29697 │\n",
      "╘═════════╧═════════╧═════════════╛\n",
      "Best parameters: {'alpha': 0.1, 'fit_intercept': True, 'normalize': False}\n"
     ]
    }
   ],
   "source": [
    "# define hyperparameters to tune\n",
    "params = {'alpha': [0.0001, 0.001, 0.01, 0.1, 1, 10, 100],\n",
    "          'normalize': [True, False],\n",
    "          'fit_intercept': [True, False]}\n",
    "\n",
    "# create linear regression model\n",
    "lasso_model = Lasso()\n",
    "\n",
    "# use grid search to find best hyperparameters\n",
    "grid_search = GridSearchCV(lasso_model, param_grid=params, cv=5)\n",
    "grid_search.fit(x_train, y_train)\n",
    "grid_search_pred = grid_search.predict(x_test)\n",
    "\n",
    "lin_error = evaluate_model(grid_search_pred, y_test)\n",
    "\n",
    "## Printing the parameters that generated the best results\n",
    "print(\"Best parameters:\", grid_search.best_params_)"
   ]
  },
  {
   "cell_type": "markdown",
   "id": "85661cfb-69d5-4d81-8857-6a484b061659",
   "metadata": {},
   "source": [
    "### Plot the observed vs the predicted"
   ]
  },
  {
   "cell_type": "code",
   "execution_count": null,
   "id": "12d261bf-04d9-4d74-9218-5ce5fb956af7",
   "metadata": {},
   "outputs": [
    {
     "data": {
      "image/png": "[encoded data removed]",
      "text/plain": [
       "<Figure size 640x480 with 1 Axes>"
      ]
     },
     "metadata": {},
     "output_type": "display_data"
    }
   ],
   "source": [
    "## Create a scatter plot of the predicted values vs the observed values\n",
    "plt.scatter(y_test, grid_search_pred, alpha=0.5)\n",
    "\n",
    "## Add the line of best fit\n",
    "plt.plot(y_test, y_test, color='red')\n",
    "\n",
    "## set the x and y labels\n",
    "plt.xlabel('Observed values')\n",
    "plt.ylabel('Predicted values')\n",
    "\n",
    "plt.show()"
   ]
  },
  {
   "cell_type": "markdown",
   "id": "31316fbc-efae-45ca-b66a-f441154c9e43",
   "metadata": {},
   "source": [
    "### Plotting the residuals"
   ]
  },
  {
   "cell_type": "code",
   "execution_count": null,
   "id": "c84bcee8-c006-47f5-a6d9-2fcd36989b0c",
   "metadata": {},
   "outputs": [
    {
     "data": {
      "image/png": "[encoded data removed]",
      "text/plain": [
       "<Figure size 640x480 with 1 Axes>"
      ]
     },
     "metadata": {},
     "output_type": "display_data"
    }
   ],
   "source": [
    "y_pred = grid_search_pred\n",
    "y_actual = y_test\n",
    "\n",
    "## Calculate the residuals by subtracting the predicted values from the actual values\n",
    "residuals = y_actual - y_pred\n",
    "\n",
    "## Calculate the mean and standard deviation\n",
    "residuals_mean = residuals.mean()\n",
    "residuals_std = residuals.std()\n",
    "\n",
    "## Visualise the residuals using a scatter plot\n",
    "plt.scatter(y_pred, residuals)\n",
    "plt.xlabel(\"Predicted Values\")\n",
    "plt.ylabel(\"Residuals\")\n",
    "plt.title(\"Residuals vs Predicted Values\")\n",
    "plt.show()"
   ]
  },
  {
   "cell_type": "markdown",
   "id": "4c37e265-1d3f-4bd8-9fdd-f789924acd6d",
   "metadata": {},
   "source": [
    "### Looking at the incorrect predictions"
   ]
  },
  {
   "cell_type": "code",
   "execution_count": null,
   "id": "c8f4935a-7944-4ac5-bce7-12b677aeab10",
   "metadata": {},
   "outputs": [
    {
     "data": {
      "text/html": [
       "<div>\n",
       "<style scoped>\n",
       "    .dataframe tbody tr th:only-of-type {\n",
       "        vertical-align: middle;\n",
       "    }\n",
       "\n",
       "    .dataframe tbody tr th {\n",
       "        vertical-align: top;\n",
       "    }\n",
       "\n",
       "    .dataframe thead th {\n",
       "        text-align: right;\n",
       "    }\n",
       "</style>\n",
       "<table border=\"1\" class=\"dataframe\">\n",
       "  <thead>\n",
       "    <tr style=\"text-align: right;\">\n",
       "      <th></th>\n",
       "      <th>Actual</th>\n",
       "      <th>Predicted</th>\n",
       "      <th>Difference</th>\n",
       "    </tr>\n",
       "  </thead>\n",
       "  <tbody>\n",
       "    <tr>\n",
       "      <th>count</th>\n",
       "      <td>323.000000</td>\n",
       "      <td>323.000000</td>\n",
       "      <td>323.000000</td>\n",
       "    </tr>\n",
       "    <tr>\n",
       "      <th>mean</th>\n",
       "      <td>51.061853</td>\n",
       "      <td>52.191223</td>\n",
       "      <td>-1.129370</td>\n",
       "    </tr>\n",
       "    <tr>\n",
       "      <th>std</th>\n",
       "      <td>18.375866</td>\n",
       "      <td>9.471560</td>\n",
       "      <td>15.366017</td>\n",
       "    </tr>\n",
       "    <tr>\n",
       "      <th>min</th>\n",
       "      <td>14.314533</td>\n",
       "      <td>24.727871</td>\n",
       "      <td>-39.209719</td>\n",
       "    </tr>\n",
       "    <tr>\n",
       "      <th>25%</th>\n",
       "      <td>36.893264</td>\n",
       "      <td>44.919187</td>\n",
       "      <td>-12.245509</td>\n",
       "    </tr>\n",
       "    <tr>\n",
       "      <th>50%</th>\n",
       "      <td>49.347635</td>\n",
       "      <td>51.662151</td>\n",
       "      <td>-2.830649</td>\n",
       "    </tr>\n",
       "    <tr>\n",
       "      <th>75%</th>\n",
       "      <td>63.032060</td>\n",
       "      <td>58.426314</td>\n",
       "      <td>9.159340</td>\n",
       "    </tr>\n",
       "    <tr>\n",
       "      <th>max</th>\n",
       "      <td>117.388622</td>\n",
       "      <td>76.948630</td>\n",
       "      <td>46.266917</td>\n",
       "    </tr>\n",
       "  </tbody>\n",
       "</table>\n",
       "</div>"
      ],
      "text/plain": [
       "           Actual   Predicted  Difference\n",
       "count  323.000000  323.000000  323.000000\n",
       "mean    51.061853   52.191223   -1.129370\n",
       "std     18.375866    9.471560   15.366017\n",
       "min     14.314533   24.727871  -39.209719\n",
       "25%     36.893264   44.919187  -12.245509\n",
       "50%     49.347635   51.662151   -2.830649\n",
       "75%     63.032060   58.426314    9.159340\n",
       "max    117.388622   76.948630   46.266917"
      ]
     },
     "execution_count": null,
     "metadata": {},
     "output_type": "execute_result"
    }
   ],
   "source": [
    "y_pred = grid_search_pred\n",
    "y_actual = y_test\n",
    "difference = y_actual - y_pred\n",
    "\n",
    "df_linear = pd.DataFrame({'Actual': y_test, 'Predicted': y_pred, 'Difference': difference})\n",
    "\n",
    "## Find the incorrect predictions\n",
    "incorrect_predictions = df_linear.loc[df_linear['Actual'] != df_linear['Predicted']]\n",
    "\n",
    "incorrect_predictions.describe()"
   ]
  },
  {
   "cell_type": "markdown",
   "id": "42f3ff6d-a1e1-4802-9a7e-76d2f374e652",
   "metadata": {},
   "source": [
    "## 4. XGBoost Regression Model"
   ]
  },
  {
   "cell_type": "code",
   "execution_count": null,
   "id": "389bdf7e-08dc-4660-bd16-c875c6c346c5",
   "metadata": {},
   "outputs": [
    {
     "name": "stdout",
     "output_type": "stream",
     "text": [
      "╒═════════╤═════════╤═════════════╕\n",
      "│    RMSE │     MAE │   R Squared │\n",
      "╞═════════╪═════════╪═════════════╡\n",
      "│ 24.2013 │ 19.2131 │   -0.739921 │\n",
      "╘═════════╧═════════╧═════════════╛\n"
     ]
    }
   ],
   "source": [
    "xg_reg = xgb.XGBRegressor(objective ='reg:squarederror', colsample_bytree = 0.3, learning_rate = 0.1,\n",
    "                max_depth = 5, alpha = 10, n_estimators = 10)\n",
    "xg_reg.fit(x_train,y_train)\n",
    "\n",
    "predicts = xg_reg.predict(x_test)\n",
    "\n",
    "error = evaluate_model(predicts, y_test)"
   ]
  },
  {
   "cell_type": "markdown",
   "id": "032f1857-c292-4d54-9fe9-74368d5a2d25",
   "metadata": {},
   "source": [
    "### Feature Importance"
   ]
  },
  {
   "cell_type": "code",
   "execution_count": null,
   "id": "37e632b7-f09b-4a57-abe1-d7380aa145ec",
   "metadata": {},
   "outputs": [
    {
     "data": {
      "image/png": "[encoded data removed]",
      "text/plain": [
       "<Figure size 640x480 with 1 Axes>"
      ]
     },
     "metadata": {},
     "output_type": "display_data"
    }
   ],
   "source": [
    "xgb.plot_importance(xg_reg)\n",
    "plt.rcParams['figure.figsize'] = [5, 5]\n",
    "plt.show()"
   ]
  },
  {
   "cell_type": "markdown",
   "id": "7d7a43e9-a1e2-4eb1-8d50-7b223eb5a7e0",
   "metadata": {},
   "source": [
    "### Regularization and hyperparameter tuning"
   ]
  },
  {
   "cell_type": "code",
   "execution_count": null,
   "id": "57800d11-ed48-4b97-a3dc-f497a4438209",
   "metadata": {},
   "outputs": [
    {
     "name": "stdout",
     "output_type": "stream",
     "text": [
      "╒═════════╤═════════╤═════════════╕\n",
      "│    RMSE │     MAE │   R Squared │\n",
      "╞═════════╪═════════╪═════════════╡\n",
      "│ 15.1818 │ 12.2298 │    0.315303 │\n",
      "╘═════════╧═════════╧═════════════╛\n",
      "Best parameters: {'learning_rate': 0.01, 'max_depth': 3, 'n_estimators': 500, 'reg_alpha': 0.1, 'reg_lambda': 0.1}\n"
     ]
    }
   ],
   "source": [
    "# Combining regularization and hyperparameter tuning\n",
    "\n",
    "param_grid = {'n_estimators': [100, 500, 1000],\n",
    "              'learning_rate': [0.01, 0.1, 0.5],\n",
    "              'max_depth': [3, 5, 7],\n",
    "              'reg_alpha': [0.1],\n",
    "              'reg_lambda': [0.1]}\n",
    "\n",
    "xg_reg = xgb.XGBRegressor(objective ='reg:squarederror')\n",
    "grid_search = GridSearchCV(xg_reg, param_grid=param_grid, cv=5, n_jobs=-1)\n",
    "grid_search.fit(x_train, y_train)\n",
    "grid_search_pred = grid_search.predict(x_test)\n",
    "\n",
    "xg_error = evaluate_model(grid_search_pred, y_test)\n",
    "\n",
    "## Printing the parameters that generated the best results\n",
    "print(\"Best parameters:\", grid_search.best_params_)"
   ]
  },
  {
   "cell_type": "markdown",
   "id": "ece30289-3c6e-4c83-b728-c1f28ac7bdc8",
   "metadata": {},
   "source": [
    "### Plot the observed vs the predicted values"
   ]
  },
  {
   "cell_type": "code",
   "execution_count": null,
   "id": "002cd099-112e-4a24-b072-b602a3124e5b",
   "metadata": {},
   "outputs": [
    {
     "data": {
      "image/png": "[encoded data removed]",
      "text/plain": [
       "<Figure size 500x500 with 1 Axes>"
      ]
     },
     "metadata": {},
     "output_type": "display_data"
    }
   ],
   "source": [
    "## Create a scatter plot of the predicted values vs the observed values\n",
    "plt.scatter(y_test, grid_search_pred, alpha=0.5)\n",
    "\n",
    "## Add the line of best fit\n",
    "plt.plot(y_test, y_test, color='red')\n",
    "\n",
    "## set the x and y labels\n",
    "plt.xlabel('Observed values')\n",
    "plt.ylabel('Predicted values')\n",
    "\n",
    "plt.show()"
   ]
  },
  {
   "cell_type": "markdown",
   "id": "1a317fb8-e99b-4fdf-9170-60d1bd4f6160",
   "metadata": {},
   "source": [
    "### Plotting the Residuals"
   ]
  },
  {
   "cell_type": "code",
   "execution_count": null,
   "id": "e57856db-29b2-423e-a9c1-4e73a0a8b0f9",
   "metadata": {},
   "outputs": [
    {
     "data": {
      "image/png": "[encoded data removed]",
      "text/plain": [
       "<Figure size 500x500 with 1 Axes>"
      ]
     },
     "metadata": {},
     "output_type": "display_data"
    }
   ],
   "source": [
    "y_pred = grid_search_pred\n",
    "y_actual = y_test\n",
    "\n",
    "## Calculate the residuals by subtracting the predicted values from the actual values\n",
    "residuals = y_actual - y_pred\n",
    "\n",
    "## Calculate the mean and standard deviation\n",
    "residuals_mean = residuals.mean()\n",
    "residuals_std = residuals.std()\n",
    "\n",
    "## Visualise the residuals using a scatter plot\n",
    "plt.scatter(y_pred, residuals)\n",
    "plt.xlabel(\"Predicted Values\")\n",
    "plt.ylabel(\"Residuals\")\n",
    "plt.title(\"Residuals vs Predicted Values\")\n",
    "plt.show()"
   ]
  },
  {
   "cell_type": "markdown",
   "id": "331fca90-2958-49f5-8520-b10b602cc9ba",
   "metadata": {},
   "source": [
    "### Looking at the incorrect predictions"
   ]
  },
  {
   "cell_type": "code",
   "execution_count": null,
   "id": "f88bb164-7504-4d0e-ba4e-76e5d9b8c76f",
   "metadata": {},
   "outputs": [
    {
     "data": {
      "text/html": [
       "<div>\n",
       "<style scoped>\n",
       "    .dataframe tbody tr th:only-of-type {\n",
       "        vertical-align: middle;\n",
       "    }\n",
       "\n",
       "    .dataframe tbody tr th {\n",
       "        vertical-align: top;\n",
       "    }\n",
       "\n",
       "    .dataframe thead th {\n",
       "        text-align: right;\n",
       "    }\n",
       "</style>\n",
       "<table border=\"1\" class=\"dataframe\">\n",
       "  <thead>\n",
       "    <tr style=\"text-align: right;\">\n",
       "      <th></th>\n",
       "      <th>Actual</th>\n",
       "      <th>Predicted</th>\n",
       "      <th>Difference</th>\n",
       "    </tr>\n",
       "  </thead>\n",
       "  <tbody>\n",
       "    <tr>\n",
       "      <th>count</th>\n",
       "      <td>323.000000</td>\n",
       "      <td>323.000000</td>\n",
       "      <td>323.000000</td>\n",
       "    </tr>\n",
       "    <tr>\n",
       "      <th>mean</th>\n",
       "      <td>51.061853</td>\n",
       "      <td>51.722294</td>\n",
       "      <td>-0.660439</td>\n",
       "    </tr>\n",
       "    <tr>\n",
       "      <th>std</th>\n",
       "      <td>18.375866</td>\n",
       "      <td>9.316399</td>\n",
       "      <td>15.177545</td>\n",
       "    </tr>\n",
       "    <tr>\n",
       "      <th>min</th>\n",
       "      <td>14.314533</td>\n",
       "      <td>30.738081</td>\n",
       "      <td>-40.437055</td>\n",
       "    </tr>\n",
       "    <tr>\n",
       "      <th>25%</th>\n",
       "      <td>36.893264</td>\n",
       "      <td>45.749424</td>\n",
       "      <td>-11.056669</td>\n",
       "    </tr>\n",
       "    <tr>\n",
       "      <th>50%</th>\n",
       "      <td>49.347635</td>\n",
       "      <td>50.414505</td>\n",
       "      <td>-2.671254</td>\n",
       "    </tr>\n",
       "    <tr>\n",
       "      <th>75%</th>\n",
       "      <td>63.032060</td>\n",
       "      <td>57.926859</td>\n",
       "      <td>9.718018</td>\n",
       "    </tr>\n",
       "    <tr>\n",
       "      <th>max</th>\n",
       "      <td>117.388622</td>\n",
       "      <td>78.461533</td>\n",
       "      <td>50.047040</td>\n",
       "    </tr>\n",
       "  </tbody>\n",
       "</table>\n",
       "</div>"
      ],
      "text/plain": [
       "           Actual   Predicted  Difference\n",
       "count  323.000000  323.000000  323.000000\n",
       "mean    51.061853   51.722294   -0.660439\n",
       "std     18.375866    9.316399   15.177545\n",
       "min     14.314533   30.738081  -40.437055\n",
       "25%     36.893264   45.749424  -11.056669\n",
       "50%     49.347635   50.414505   -2.671254\n",
       "75%     63.032060   57.926859    9.718018\n",
       "max    117.388622   78.461533   50.047040"
      ]
     },
     "execution_count": null,
     "metadata": {},
     "output_type": "execute_result"
    }
   ],
   "source": [
    "y_pred = grid_search_pred\n",
    "difference = y_actual - y_pred\n",
    "\n",
    "df_xgBoost = pd.DataFrame({'Actual': y_test, 'Predicted': y_pred, 'Difference': difference})\n",
    "\n",
    "## Find the incorrect predictions\n",
    "incorrect_predictions = df_xgBoost.loc[df_xgBoost['Actual'] != df_xgBoost['Predicted']]\n",
    "\n",
    "incorrect_predictions.describe()"
   ]
  },
  {
   "cell_type": "markdown",
   "id": "b521d239-183a-409a-b7b5-abc9288fb2cd",
   "metadata": {},
   "source": [
    "## 5. Random Forest Regression Model"
   ]
  },
  {
   "cell_type": "code",
   "execution_count": null,
   "id": "1ea4c934-8c2a-4e64-b8e9-af124bf6df4d",
   "metadata": {},
   "outputs": [],
   "source": [
    "rf_reg = RandomForestRegressor(n_estimators = 1000, random_state = 42)\n",
    "rf_reg.fit(x_train,y_train)\n",
    "predictions = rf_reg.predict(x_test)"
   ]
  },
  {
   "cell_type": "code",
   "execution_count": null,
   "id": "6a6f3535-735f-478f-9f40-514bed68ba55",
   "metadata": {},
   "outputs": [
    {
     "name": "stdout",
     "output_type": "stream",
     "text": [
      "╒═════════╤═════════╤═════════════╕\n",
      "│    RMSE │     MAE │   R Squared │\n",
      "╞═════════╪═════════╪═════════════╡\n",
      "│ 15.4336 │ 12.6331 │    0.292401 │\n",
      "╘═════════╧═════════╧═════════════╛\n"
     ]
    }
   ],
   "source": [
    "error = evaluate_model(predictions, y_test)"
   ]
  },
  {
   "cell_type": "markdown",
   "id": "a391b55c-a640-4973-9f8f-66d9f1d46698",
   "metadata": {},
   "source": [
    "### Feature Importance"
   ]
  },
  {
   "cell_type": "code",
   "execution_count": null,
   "id": "062d8cb2-c7c5-405b-b283-f39ad1a5e93a",
   "metadata": {},
   "outputs": [
    {
     "data": {
      "image/png": "[encoded data removed]",
      "text/plain": [
       "<Figure size 500x500 with 1 Axes>"
      ]
     },
     "metadata": {},
     "output_type": "display_data"
    }
   ],
   "source": [
    "# plot feature importance\n",
    "importances = rf_reg.feature_importances_\n",
    "indices = np.argsort(importances)[::-1]\n",
    "plt.bar(range(x_train.shape[1]), importances[indices])\n",
    "plt.xticks(range(x_train.shape[1]), x_train.columns[indices], rotation=90)\n",
    "plt.show()"
   ]
  },
  {
   "cell_type": "markdown",
   "id": "90b47d1c-c677-405e-8973-78c502825332",
   "metadata": {},
   "source": [
    "### Hyperparameter Tuning and Regularization"
   ]
  },
  {
   "cell_type": "code",
   "execution_count": null,
   "id": "9bab19ce-919f-4228-9614-8b9f366d5321",
   "metadata": {},
   "outputs": [
    {
     "name": "stdout",
     "output_type": "stream",
     "text": [
      "╒═════════╤═════════╤═════════════╕\n",
      "│    RMSE │     MAE │   R Squared │\n",
      "╞═════════╪═════════╪═════════════╡\n",
      "│ 15.3867 │ 12.5338 │    0.296694 │\n",
      "╘═════════╧═════════╧═════════════╛\n",
      "Best parameters: {'ccp_alpha': 0.5, 'max_depth': 15, 'max_features': 'auto', 'min_samples_leaf': 4, 'min_samples_split': 10, 'n_estimators': 100}\n"
     ]
    }
   ],
   "source": [
    "param_grid = {\n",
    "    'n_estimators': [100, 200, 300],\n",
    "    'max_depth': [5, 10, 15],\n",
    "    'max_features': ['auto','sqrt', 'log2'],\n",
    "    'min_samples_split': [2, 5, 10],\n",
    "    'min_samples_leaf': [1, 2, 4],\n",
    "    'ccp_alpha': [0.5]\n",
    "}\n",
    "\n",
    "rf_reg = RandomForestRegressor()\n",
    "grid_search = GridSearchCV(rf_reg, param_grid, cv=5, n_jobs=-1)\n",
    "grid_search.fit(x_train, y_train)\n",
    "grid_search_pred = grid_search.predict(x_test)\n",
    "\n",
    "rf_error = evaluate_model(grid_search_pred, y_test)\n",
    "## Printing the parameters that generated the best results\n",
    "print(\"Best parameters:\", grid_search.best_params_)"
   ]
  },
  {
   "cell_type": "markdown",
   "id": "30d7650f-4b4c-4672-a3de-c571e833f119",
   "metadata": {},
   "source": [
    "## 6. Support Vector Regression"
   ]
  },
  {
   "cell_type": "code",
   "execution_count": null,
   "id": "0e033615-5ab0-48d1-81c5-5f4e31b91140",
   "metadata": {},
   "outputs": [],
   "source": [
    "svr_reg = SVR(kernel = 'linear', C=1, epsilon=0.1)\n",
    "\n",
    "svr_reg.fit(x_train,y_train)\n",
    "\n",
    "predictions = svr_reg.predict(x_test)"
   ]
  },
  {
   "cell_type": "code",
   "execution_count": null,
   "id": "6a252347-bfce-4377-baa4-27b30bc8a95c",
   "metadata": {},
   "outputs": [
    {
     "name": "stdout",
     "output_type": "stream",
     "text": [
      "╒════════╤═════════╤═════════════╕\n",
      "│   RMSE │     MAE │   R Squared │\n",
      "╞════════╪═════════╪═════════════╡\n",
      "│  15.41 │ 12.3252 │    0.294569 │\n",
      "╘════════╧═════════╧═════════════╛\n"
     ]
    }
   ],
   "source": [
    "error = evaluate_model(predictions, y_test)"
   ]
  },
  {
   "cell_type": "code",
   "execution_count": null,
   "id": "02cc7563-727d-45a8-8172-7c1b474481dd",
   "metadata": {},
   "outputs": [
    {
     "name": "stdout",
     "output_type": "stream",
     "text": [
      "╒═════════╤═════════╤═════════════╕\n",
      "│    RMSE │     MAE │   R Squared │\n",
      "╞═════════╪═════════╪═════════════╡\n",
      "│ 18.3631 │ 14.8906 │  -0.0017101 │\n",
      "╘═════════╧═════════╧═════════════╛\n"
     ]
    }
   ],
   "source": [
    "svr_reg = SVR(kernel = 'rbf', C=1, epsilon=0.1)\n",
    "svr_reg.fit(x_train,y_train)\n",
    "predictions = svr_reg.predict(x_test)\n",
    "error = evaluate_model(predictions, y_test)"
   ]
  },
  {
   "cell_type": "code",
   "execution_count": null,
   "id": "c1a470ba-dffc-4609-8c70-d4bf83296907",
   "metadata": {},
   "outputs": [
    {
     "name": "stdout",
     "output_type": "stream",
     "text": [
      "╒═════════╤═════════╤═════════════╕\n",
      "│    RMSE │     MAE │   R Squared │\n",
      "╞═════════╪═════════╪═════════════╡\n",
      "│ 18.3589 │ 14.8879 │ -0.00125486 │\n",
      "╘═════════╧═════════╧═════════════╛\n"
     ]
    }
   ],
   "source": [
    "svr_reg = SVR(kernel = 'sigmoid', C=1, epsilon=0.1)\n",
    "svr_reg.fit(x_train,y_train)\n",
    "predictions = svr_reg.predict(x_test)\n",
    "error = evaluate_model(predictions, y_test)"
   ]
  },
  {
   "cell_type": "code",
   "execution_count": null,
   "id": "3581bdac-b5f1-43bf-b581-30baa80e0505",
   "metadata": {},
   "outputs": [
    {
     "name": "stdout",
     "output_type": "stream",
     "text": [
      "╒═════════╤═════════╤══════════════╕\n",
      "│    RMSE │     MAE │    R Squared │\n",
      "╞═════════╪═════════╪══════════════╡\n",
      "│ 18.3487 │ 14.8734 │ -0.000145106 │\n",
      "╘═════════╧═════════╧══════════════╛\n"
     ]
    }
   ],
   "source": [
    "svr_reg = SVR(kernel = 'poly', C=1, epsilon=0.1)\n",
    "svr_reg.fit(x_train,y_train)\n",
    "predictions = svr_reg.predict(x_test)\n",
    "error = evaluate_model(predictions, y_test)"
   ]
  },
  {
   "cell_type": "markdown",
   "id": "54f877ff-5f2a-47cd-a911-9aa408880a62",
   "metadata": {},
   "source": [
    "### Regularization and Hyperparameter Tuning"
   ]
  },
  {
   "cell_type": "code",
   "execution_count": null,
   "id": "0285e4ef-eed5-4fa2-aedc-b6efa164ae36",
   "metadata": {},
   "outputs": [
    {
     "name": "stdout",
     "output_type": "stream",
     "text": [
      "╒════════╤═════════╤═════════════╕\n",
      "│   RMSE │     MAE │   R Squared │\n",
      "╞════════╪═════════╪═════════════╡\n",
      "│  15.41 │ 12.3252 │    0.294569 │\n",
      "╘════════╧═════════╧═════════════╛\n",
      "Best parameters: {'C': 1, 'gamma': 'scale', 'kernel': 'linear'}\n"
     ]
    }
   ],
   "source": [
    "# Define the parameter grid for the SVR model\n",
    "param_grid = {\n",
    "    'C': [0.1, 1, 10],\n",
    "    'kernel': ['linear'],\n",
    "    'gamma': ['scale']\n",
    "}\n",
    "\n",
    "svr = SVR()\n",
    "\n",
    "# Perform a grid search to find the best hyperparameters\n",
    "grid_search = GridSearchCV(estimator=svr, param_grid=param_grid, cv=5, n_jobs=-1)\n",
    "grid_search.fit(x_train, y_train)\n",
    "\n",
    "grid_search_pred = grid_search.predict(x_test)\n",
    "\n",
    "svr_error = evaluate_model(grid_search_pred, y_test)\n",
    "## Printing the parameters that generated the best results\n",
    "print(\"Best parameters:\", grid_search.best_params_)"
   ]
  },
  {
   "cell_type": "markdown",
   "id": "1f69d810-45ac-4fff-8b1c-ae21485fb2ce",
   "metadata": {},
   "source": [
    "# Comparing RMSE scores using T-test\n",
    "\n",
    "> Error arrays are produced in the evaluate_model() function.\n",
    "\n",
    "> Compaing each of the machine learning models to the linear regression models using the statistical t-test."
   ]
  },
  {
   "cell_type": "code",
   "execution_count": null,
   "id": "934a6b69-f13c-46c7-9e1a-3eb8c67801b0",
   "metadata": {},
   "outputs": [],
   "source": [
    "from scipy.stats import ttest_rel, ttest_ind"
   ]
  },
  {
   "cell_type": "markdown",
   "id": "82e4a861-7d0b-4847-9c47-e6cff48582f5",
   "metadata": {},
   "source": [
    "## Comparing Linear Regression to XGBoost regression"
   ]
  },
  {
   "cell_type": "code",
   "execution_count": null,
   "id": "f50539d0-48e6-47ff-ba17-4a108199271f",
   "metadata": {},
   "outputs": [
    {
     "name": "stdout",
     "output_type": "stream",
     "text": [
      "Paired t-test results:\n",
      "t-statistic: -0.31076694267370886\n",
      "p-value: 0.7560783575397056\n",
      "The difference between the RMSE scores is not statistically significant.\n"
     ]
    }
   ],
   "source": [
    "## Using python package\n",
    "# Perform t-test\n",
    "# lin_error = array of errors generated from the linear regression model\n",
    "# xg_error = array of errors generated from the xgboost regression model\n",
    "\n",
    "t_statistic, p_value = ttest_ind(lin_error, xg_error)\n",
    "# Print the results\n",
    "print(\"Paired t-test results:\")\n",
    "print(\"t-statistic:\", t_statistic)\n",
    "print(\"p-value:\", p_value)\n",
    "\n",
    "# Compare the p-value with a significance level alpha (e.g., 0.05)\n",
    "alpha = 0.05\n",
    "if p_value < alpha:\n",
    "    print(\"The difference between the RMSE scores is statistically significant.\")\n",
    "else:\n",
    "    print(\"The difference between the RMSE scores is not statistically significant.\")"
   ]
  },
  {
   "cell_type": "markdown",
   "id": "897967c8-5f3c-4186-9893-499f348944d8",
   "metadata": {},
   "source": [
    "## Comparing linear regression to random forest"
   ]
  },
  {
   "cell_type": "code",
   "execution_count": null,
   "id": "71367a2f-734d-414a-9cb0-41084b868c23",
   "metadata": {},
   "outputs": [
    {
     "name": "stdout",
     "output_type": "stream",
     "text": [
      "Paired t-test results:\n",
      "t-statistic: -0.14136937398098923\n",
      "p-value: 0.8876223570304189\n",
      "The difference between the RMSE scores is not statistically significant.\n"
     ]
    }
   ],
   "source": [
    "## Using python package\n",
    "# Perform t-test\n",
    "t_statistic, p_value = ttest_ind(lin_error, rf_error)\n",
    "# Print the results\n",
    "print(\"Paired t-test results:\")\n",
    "print(\"t-statistic:\", t_statistic)\n",
    "print(\"p-value:\", p_value)\n",
    "\n",
    "# Compare the p-value with a significance level alpha (e.g., 0.05)\n",
    "alpha = 0.05\n",
    "if p_value < alpha:\n",
    "    print(\"The difference between the RMSE scores is statistically significant.\")\n",
    "else:\n",
    "    print(\"The difference between the RMSE scores is not statistically significant.\")"
   ]
  },
  {
   "cell_type": "markdown",
   "id": "202e5c90-ff37-4496-89dd-80d22a123ba7",
   "metadata": {},
   "source": [
    "## Comparing linear regression to support vector regression"
   ]
  },
  {
   "cell_type": "code",
   "execution_count": null,
   "id": "e20a5fad-ce41-4f03-85d2-c43f837f026b",
   "metadata": {},
   "outputs": [
    {
     "name": "stdout",
     "output_type": "stream",
     "text": [
      "Paired t-test results:\n",
      "t-statistic: -0.8288360210037097\n",
      "p-value: 0.407504281583287\n",
      "The difference between the RMSE scores is not statistically significant.\n"
     ]
    }
   ],
   "source": [
    "## Using python package\n",
    "# Perform t-test\n",
    "t_statistic, p_value = ttest_ind(lin_error, svr_error)\n",
    "# Print the results\n",
    "print(\"Paired t-test results:\")\n",
    "print(\"t-statistic:\", t_statistic)\n",
    "print(\"p-value:\", p_value)\n",
    "\n",
    "# Compare the p-value with a significance level alpha (e.g., 0.05)\n",
    "alpha = 0.05\n",
    "if p_value < alpha:\n",
    "    print(\"The difference between the RMSE scores is statistically significant.\")\n",
    "else:\n",
    "    print(\"The difference between the RMSE scores is not statistically significant.\")"
   ]
  },
  {
   "cell_type": "markdown",
   "id": "a653af8c-acd8-4fb9-92e1-f2e1173e77f6",
   "metadata": {},
   "source": [
    "# Predicting eGFR1Year without PRS\n",
    "\n",
    "> Implementing the models on the data with the PRS data removed."
   ]
  },
  {
   "cell_type": "markdown",
   "id": "99aa039a-b9fb-4697-b2c4-43e9e0533c70",
   "metadata": {},
   "source": [
    "## Training and Testing Data "
   ]
  },
  {
   "cell_type": "code",
   "execution_count": null,
   "id": "dc906dae-531e-4e7a-9d47-cfc3f4672b87",
   "metadata": {},
   "outputs": [
    {
     "data": {
      "text/plain": [
       "Index(['DonAge', 'RecAge', 'DonSex', 'RecSex', 'SexMismatch', 'Year',\n",
       "       'IntracranialHaemorrhage', 'RecPC1', 'RecHypertensionPRS',\n",
       "       'DonHypertensionPRS', 'DoneGFRPRS', 'DonStrokePRS', 'RecHAKVPRS',\n",
       "       'ColdIschemiaTime', 'GraftNo', 'eGFR1Year'],\n",
       "      dtype='object')"
      ]
     },
     "execution_count": null,
     "metadata": {},
     "output_type": "execute_result"
    }
   ],
   "source": [
    "df_pheno.columns"
   ]
  },
  {
   "cell_type": "code",
   "execution_count": null,
   "id": "8c90b6f6-0546-48b5-8ffb-c5bdcbf8cbe0",
   "metadata": {},
   "outputs": [],
   "source": [
    "## Remove PRS scores\n",
    "x_prs = df_pheno.drop(['RecHypertensionPRS', 'DonHypertensionPRS', 'DoneGFRPRS', 'DonStrokePRS', 'RecHAKVPRS', 'eGFR1Year'], axis = 1)\n",
    "\n",
    "y = df_pheno['eGFR1Year']\n",
    "x_train_prs, x_test_prs, y_train_prs, y_test_prs = train_test_split(x_prs, y, test_size=0.2, random_state=123)"
   ]
  },
  {
   "cell_type": "markdown",
   "id": "253c6ddb-929b-4bdb-8d69-08c9b12e4670",
   "metadata": {},
   "source": [
    "## 7. Linear Regression Model without PRS scores"
   ]
  },
  {
   "cell_type": "code",
   "execution_count": null,
   "id": "b5dda2c6-adb8-43d2-8dfa-dcacbe9db80b",
   "metadata": {},
   "outputs": [],
   "source": [
    "lin_reg = LinearRegression()\n",
    "lin_reg.fit(x_train_prs, y_train_prs)\n",
    "predicts = lin_reg.predict(x_test_prs)"
   ]
  },
  {
   "cell_type": "code",
   "execution_count": null,
   "id": "a73daff8-3d0f-441f-a324-b350c9e6d04c",
   "metadata": {},
   "outputs": [
    {
     "name": "stdout",
     "output_type": "stream",
     "text": [
      "╒═════════╤═════════╤═════════════╕\n",
      "│    RMSE │     MAE │   R Squared │\n",
      "╞═════════╪═════════╪═════════════╡\n",
      "│ 15.3344 │ 12.2719 │    0.301466 │\n",
      "╘═════════╧═════════╧═════════════╛\n"
     ]
    }
   ],
   "source": [
    "lin_prs = evaluate_model(predicts, y_test_prs)"
   ]
  },
  {
   "cell_type": "markdown",
   "id": "9b127d59-d969-42a8-884f-13b1f9032d06",
   "metadata": {},
   "source": [
    "### Hyperparameter Tuning"
   ]
  },
  {
   "cell_type": "code",
   "execution_count": null,
   "id": "86965c2d-5806-4f50-add6-03d0e69285e6",
   "metadata": {},
   "outputs": [
    {
     "name": "stdout",
     "output_type": "stream",
     "text": [
      "╒═════════╤═════════╤═════════════╕\n",
      "│    RMSE │     MAE │   R Squared │\n",
      "╞═════════╪═════════╪═════════════╡\n",
      "│ 15.3344 │ 12.2719 │    0.301466 │\n",
      "╘═════════╧═════════╧═════════════╛\n"
     ]
    }
   ],
   "source": [
    "# define hyperparameters to tune\n",
    "params = {'normalize': [True, False],\n",
    "          'fit_intercept': [True, False]}\n",
    "# create linear regression model\n",
    "lr = LinearRegression()\n",
    "\n",
    "# use grid search to find best hyperparameters\n",
    "grid_search = GridSearchCV(lr, param_grid=params, cv=5)\n",
    "grid_search.fit(x_train_prs, y_train_prs)\n",
    "grid_search_pred = grid_search.predict(x_test_prs)\n",
    "\n",
    "lin_prs_use = evaluate_model(grid_search_pred, y_test_prs)"
   ]
  },
  {
   "cell_type": "markdown",
   "id": "bf417996-14ab-4dbb-a07b-e43390d1a1b3",
   "metadata": {},
   "source": [
    "### Regularization"
   ]
  },
  {
   "cell_type": "code",
   "execution_count": null,
   "id": "77f217c7-7401-4898-8771-ee08c1659f2c",
   "metadata": {},
   "outputs": [
    {
     "name": "stdout",
     "output_type": "stream",
     "text": [
      "╒═════════╤═════════╤═════════════╕\n",
      "│    RMSE │     MAE │   R Squared │\n",
      "╞═════════╪═════════╪═════════════╡\n",
      "│ 15.3949 │ 12.3123 │    0.295948 │\n",
      "╘═════════╧═════════╧═════════════╛\n"
     ]
    }
   ],
   "source": [
    "## Apply L1 regularization using Lasso regression:\n",
    "lasso_model = Lasso(alpha=0.5)\n",
    "lasso_model.fit(x_train_prs, y_train_prs)\n",
    "y_pred_lasso = lasso_model.predict(x_test_prs)\n",
    "lin_prs = evaluate_model(y_pred_lasso, y_test_prs)\n",
    "\n",
    "##Lasso regression can help to reduce the impact of less important features on the model and improve its performance."
   ]
  },
  {
   "cell_type": "markdown",
   "id": "da7726c4-035c-4681-999a-9ffb0fd253b7",
   "metadata": {},
   "source": [
    "## 8. XGBoost Model without PRS scores"
   ]
  },
  {
   "cell_type": "code",
   "execution_count": null,
   "id": "c0b81e98-c1b5-4339-b35f-6ea0a661aec8",
   "metadata": {},
   "outputs": [
    {
     "name": "stdout",
     "output_type": "stream",
     "text": [
      "╒═════════╤═════════╤═════════════╕\n",
      "│    RMSE │     MAE │   R Squared │\n",
      "╞═════════╪═════════╪═════════════╡\n",
      "│ 24.3157 │ 19.2673 │   -0.756404 │\n",
      "╘═════════╧═════════╧═════════════╛\n"
     ]
    }
   ],
   "source": [
    "xg_reg = xgb.XGBRegressor(objective ='reg:squarederror', colsample_bytree = 0.3, learning_rate = 0.1,\n",
    "                max_depth = 5, alpha = 10, n_estimators = 10)\n",
    "\n",
    "xg_reg.fit(x_train_prs,y_train_prs)\n",
    "\n",
    "preds = xg_reg.predict(x_test_prs)\n",
    "\n",
    "xg_prs = evaluate_model(preds, y_test_prs)"
   ]
  },
  {
   "cell_type": "markdown",
   "id": "d9afc237-5667-4abb-b842-b04709f9cbfd",
   "metadata": {},
   "source": [
    "### Tune Hyperparameters"
   ]
  },
  {
   "cell_type": "code",
   "execution_count": null,
   "id": "5c3d7597-2d36-4317-982e-226b2f47b83e",
   "metadata": {},
   "outputs": [
    {
     "name": "stdout",
     "output_type": "stream",
     "text": [
      "╒═════════╤═════════╤═════════════╕\n",
      "│    RMSE │     MAE │   R Squared │\n",
      "╞═════════╪═════════╪═════════════╡\n",
      "│ 15.1595 │ 12.0734 │    0.317314 │\n",
      "╘═════════╧═════════╧═════════════╛\n"
     ]
    }
   ],
   "source": [
    "#### Hyperparameter tuning #####\n",
    "param_grid = {\n",
    "    'learning_rate': [0.1, 0.01],\n",
    "    'max_depth': [3, 5, 7],\n",
    "    'n_estimators': [50, 100, 200],\n",
    "    'colsample_bytree': [0.3, 0.5, 0.7]\n",
    "}\n",
    "\n",
    "xg_reg = xgb.XGBRegressor(objective ='reg:squarederror')\n",
    "grid_search = GridSearchCV(xg_reg, param_grid, cv=5, n_jobs=-1)\n",
    "grid_search.fit(x_train_prs, y_train_prs)\n",
    "grid_search_pred = grid_search.predict(x_test_prs)\n",
    "\n",
    "xg_prs_use = evaluate_model(grid_search_pred, y_test_prs)"
   ]
  },
  {
   "cell_type": "markdown",
   "id": "b8f00f4d-db0d-4a52-996d-8a61b9bb1d3d",
   "metadata": {},
   "source": [
    "### Regularization"
   ]
  },
  {
   "cell_type": "code",
   "execution_count": null,
   "id": "dbb11979-3bf5-4399-a7b1-1abcf0706190",
   "metadata": {},
   "outputs": [
    {
     "name": "stdout",
     "output_type": "stream",
     "text": [
      "╒═════════╤═════════╤═════════════╕\n",
      "│    RMSE │     MAE │   R Squared │\n",
      "╞═════════╪═════════╪═════════════╡\n",
      "│ 17.5043 │ 13.9953 │   0.0897941 │\n",
      "╘═════════╧═════════╧═════════════╛\n"
     ]
    }
   ],
   "source": [
    "## Apply L1 regularization using the alpha parameter:\n",
    "\n",
    "xgb_model_l1 = xgb.XGBRegressor(objective='reg:squarederror', random_state=123, n_estimators=1000, max_depth=5, learning_rate=0.1, alpha=0.5, colsample_bytree=0.5)\n",
    "xgb_model_l1.fit(x_train_prs,y_train_prs)\n",
    "predicts = xgb_model_l1.predict(x_test_prs)\n",
    "xg_prs = evaluate_model(predicts, y_test_prs)\n",
    "\n",
    "##By applying L1 regularization, we can reduce the impact of less important features on the model and improve its performance."
   ]
  },
  {
   "cell_type": "markdown",
   "id": "e56fe15a-8f5f-429d-9c06-28dd125da2c8",
   "metadata": {},
   "source": [
    "## 9. Random Forest Without PRS scores"
   ]
  },
  {
   "cell_type": "code",
   "execution_count": null,
   "id": "4fa87635-de37-4897-be90-128fdb3b830b",
   "metadata": {},
   "outputs": [
    {
     "name": "stdout",
     "output_type": "stream",
     "text": [
      "╒═════════╤═════════╤═════════════╕\n",
      "│    RMSE │     MAE │   R Squared │\n",
      "╞═════════╪═════════╪═════════════╡\n",
      "│ 15.6361 │ 12.5799 │     0.27371 │\n",
      "╘═════════╧═════════╧═════════════╛\n"
     ]
    }
   ],
   "source": [
    "rf_reg = RandomForestRegressor(n_estimators = 1000, random_state = 42)\n",
    "rf_reg.fit(x_train_prs,y_train_prs)\n",
    "predictions = rf_reg.predict(x_test_prs)\n",
    "\n",
    "rf_prs = evaluate_model(predictions, y_test_prs)"
   ]
  },
  {
   "cell_type": "markdown",
   "id": "477f99f9-b42e-48a4-8887-a2b7a4bcbb0a",
   "metadata": {},
   "source": [
    "### Hyperparameter Tuning"
   ]
  },
  {
   "cell_type": "code",
   "execution_count": null,
   "id": "4cc4ad72-aea8-4891-bded-37c220bbd469",
   "metadata": {},
   "outputs": [],
   "source": [
    "#### Hyperparameter Tuning ####\n",
    "param_grid = {\n",
    "    'n_estimators': [100, 200, 300],\n",
    "    'max_depth': [5, 10, 15],\n",
    "    'max_features': ['auto','sqrt', 'log2'],\n",
    "    'min_samples_split': [2, 5, 10],\n",
    "    'min_samples_leaf': [1, 2, 4]\n",
    "}\n",
    "\n",
    "rf_reg = RandomForestRegressor()\n",
    "grid_search = GridSearchCV(rf_reg, param_grid, cv=5, n_jobs=-1)\n",
    "grid_search.fit(x_train_prs, y_train_prs)\n",
    "grid_search_pred = grid_search.predict(x_test_prs)\n",
    "\n",
    "rf_prs = evaluate_model(grid_search_pred, y_test_prs)"
   ]
  },
  {
   "cell_type": "markdown",
   "id": "1c3f944b-2419-4ca2-ac98-d2011864e64c",
   "metadata": {},
   "source": [
    "### Regularization"
   ]
  },
  {
   "cell_type": "code",
   "execution_count": null,
   "id": "2ce20ef9-ad62-47fd-97e9-fdee510fc960",
   "metadata": {},
   "outputs": [],
   "source": [
    "rf_model_l1 = RandomForestRegressor(n_estimators=100, max_depth=5, random_state=123, ccp_alpha=0.5)\n",
    "rf_model_l1.fit(x_train_prs,y_train_prs)\n",
    "predictions = rf_model_l1.predict(x_test_prs)\n",
    "rf_prs_use = evaluate_model(predictions, y_test_prs)\n",
    "\n",
    "## We are adding L1 regularization by setting the ccp_alpha parameter to 0.5. \n",
    "## The ccp_alpha parameter controls the complexity of the tree and can help to prevent overfitting. \n",
    "## By applying L1 regularization, we can reduce the impact of less important features on the model and improve its performance."
   ]
  },
  {
   "cell_type": "markdown",
   "id": "fc043848-2d3b-43b8-8c66-8798d8bd4cb0",
   "metadata": {},
   "source": [
    "## 10. Support Vector Regression Without PRS scores"
   ]
  },
  {
   "cell_type": "code",
   "execution_count": null,
   "id": "e3c32305-3ac0-409b-a43f-e92d0166a054",
   "metadata": {},
   "outputs": [],
   "source": [
    "svm_reg = SVR(kernel = 'linear')\n",
    "\n",
    "svm_reg.fit(x_train_prs,y_train_prs)\n",
    "\n",
    "predictions = svm_reg.predict(x_test_prs)\n",
    "\n",
    "svr_prs = evaluate_model(predictions, y_test_prs)"
   ]
  },
  {
   "cell_type": "markdown",
   "id": "b42fed48-2e27-402f-9024-f33700ac2a7a",
   "metadata": {},
   "source": [
    "### Hyperparameter Tuning"
   ]
  },
  {
   "cell_type": "code",
   "execution_count": null,
   "id": "60a75cfb-2cde-4be8-aea1-08c9cec6fb21",
   "metadata": {},
   "outputs": [],
   "source": [
    "# Define the parameter grid for the SVR model\n",
    "param_grid = {\n",
    "    'C': [0.1, 1, 10],\n",
    "    'kernel': ['linear']\n",
    "}\n",
    "\n",
    "svr = SVR()\n",
    "\n",
    "# Perform a grid search to find the best hyperparameters\n",
    "grid_search = GridSearchCV(estimator=svr, param_grid=param_grid, cv=5, n_jobs=-1)\n",
    "grid_search.fit(x_train_prs, y_train_prs)\n",
    "grid_search_pred = grid_search.predict(x_test_prs)\n",
    "\n",
    "svr_prs_use = evaluate_model(grid_search_pred, y_test_prs)"
   ]
  },
  {
   "cell_type": "markdown",
   "id": "3ded2828-eb1d-4d91-833c-d33ec4367c46",
   "metadata": {},
   "source": [
    "### Regularizations"
   ]
  },
  {
   "cell_type": "code",
   "execution_count": null,
   "id": "75a2847a-975d-4e40-b756-b9d9c5c70721",
   "metadata": {},
   "outputs": [],
   "source": [
    "svr_model_l1 = SVR(kernel='rbf', C=1.0, epsilon=0.1, coef0=0.0, shrinking=True, tol=0.001, cache_size=200, verbose=False, max_iter=-1, gamma='scale', degree=3)\n",
    "svr_model_l1.set_params(C=0.5, epsilon=0.2, kernel='linear')\n",
    "svr_model_l1.fit(x_train_prs,y_train_prs)\n",
    "predictions = svr_model_l1.predict(x_test_prs)\n",
    "svr_prs = evaluate_model(predictions, y_test_prs)\n",
    "\n",
    "## We are adding L1 regularization by setting the C parameter to 0.5 and the kernel to 'linear'. \n",
    "## We are also setting the epsilon parameter to 0.2 to control the width of the epsilon-insensitive zone. \n",
    "## By applying L1 regularization, we can reduce the impact of less important features on the model and improve its performance."
   ]
  },
  {
   "cell_type": "markdown",
   "id": "2755f642-33e8-4b49-93b5-1cea4bffdfec",
   "metadata": {},
   "source": [
    "# Comparing RMSE scores when PRS not included\n",
    "Comparing the RMSE score of Linear regression and xgboost regression with and without PRS scores.\n",
    "\n",
    "Using t-test"
   ]
  },
  {
   "cell_type": "code",
   "execution_count": null,
   "id": "c2ac1c59-fc47-4d69-9766-8853eaa04003",
   "metadata": {},
   "outputs": [],
   "source": [
    "from scipy.stats import ttest_rel, ttest_ind"
   ]
  },
  {
   "cell_type": "markdown",
   "id": "1602cfb9-8143-4a39-b2a6-e3f9b89d01a1",
   "metadata": {},
   "source": [
    "## Comparing Linear regression"
   ]
  },
  {
   "cell_type": "code",
   "execution_count": null,
   "id": "4097715d-fc26-4b1e-b21a-7ecf24227bfd",
   "metadata": {},
   "outputs": [],
   "source": [
    "## Using python package\n",
    "# Perform t-test\n",
    "t_statistic, p_value = ttest_ind(lin_error_use, lin_prs_use)\n",
    "# Print the results\n",
    "print(\"Paired t-test results:\")\n",
    "print(\"t-statistic:\", t_statistic)\n",
    "print(\"p-value:\", p_value)\n",
    "\n",
    "# Compare the p-value with a significance level alpha (e.g., 0.05)\n",
    "alpha = 0.05\n",
    "if p_value < alpha:\n",
    "    print(\"The difference between the RMSE scores is statistically significant.\")\n",
    "else:\n",
    "    print(\"The difference between the RMSE scores is not statistically significant.\")"
   ]
  },
  {
   "cell_type": "markdown",
   "id": "5c0586bb-db96-45a2-b14b-3f7873f6d012",
   "metadata": {},
   "source": [
    "## Comparing XGBoost"
   ]
  },
  {
   "cell_type": "code",
   "execution_count": null,
   "id": "6448ebc8-3527-49a6-9fc2-570e7eac3cfb",
   "metadata": {},
   "outputs": [],
   "source": [
    "## Using python package\n",
    "# Perform t-test\n",
    "t_statistic, p_value = ttest_ind(xg_error_use, xg_prs_use)\n",
    "# Print the results\n",
    "print(\"Paired t-test results:\")\n",
    "print(\"t-statistic:\", t_statistic)\n",
    "print(\"p-value:\", p_value)\n",
    "\n",
    "# Compare the p-value with a significance level alpha (e.g., 0.05)\n",
    "alpha = 0.05\n",
    "if p_value < alpha:\n",
    "    print(\"The difference between the RMSE scores is statistically significant.\")\n",
    "else:\n",
    "    print(\"The difference between the RMSE scores is not statistically significant.\")"
   ]
  },
  {
   "cell_type": "markdown",
   "id": "272a3aca-e754-40f4-b492-cd79cd11f796",
   "metadata": {},
   "source": [
    "# Running the models with just the PRS scores"
   ]
  },
  {
   "cell_type": "markdown",
   "id": "342b97c3-f72b-4716-8ab1-e6b2866e586b",
   "metadata": {},
   "source": [
    "## Preparing the Data"
   ]
  },
  {
   "cell_type": "code",
   "execution_count": null,
   "id": "2fc8fb0c-02c1-408d-a9b3-b690244be04a",
   "metadata": {},
   "outputs": [],
   "source": [
    "x = df_eGFR.drop(['eGFR1Year', 'DonAge', 'RecAge', 'DonSex', 'RecSex', 'SexMismatch', 'Year',\n",
    "       'IntracranialHaemorrhage', 'RecPC1', 'ColdIschemiaTime', 'GraftNo'], axis = 1)\n",
    "y = df_eGFR['eGFR1Year']\n",
    "x_train, x_test, y_train, y_test = train_test_split(x, y, test_size=0.2, random_state=123)"
   ]
  },
  {
   "cell_type": "code",
   "execution_count": null,
   "id": "2c685c3b-9eac-4e30-a804-64afa73b3724",
   "metadata": {},
   "outputs": [
    {
     "data": {
      "text/plain": [
       "Index(['RecHypertensionPRS', 'DonHypertensionPRS', 'DoneGFRPRS',\n",
       "       'DonStrokePRS', 'RecHAKVPRS'],\n",
       "      dtype='object')"
      ]
     },
     "execution_count": null,
     "metadata": {},
     "output_type": "execute_result"
    }
   ],
   "source": [
    "x.columns"
   ]
  },
  {
   "cell_type": "markdown",
   "id": "6c4bf996-11df-437b-8752-3cf3a4da84e7",
   "metadata": {},
   "source": [
    "## Linear Regression model"
   ]
  },
  {
   "cell_type": "code",
   "execution_count": null,
   "id": "8c06fee6-9997-4b99-a9f6-7924c7a4f593",
   "metadata": {},
   "outputs": [
    {
     "name": "stdout",
     "output_type": "stream",
     "text": [
      "╒═════════╤═════════╤═════════════╕\n",
      "│    RMSE │     MAE │   R Squared │\n",
      "╞═════════╪═════════╪═════════════╡\n",
      "│ 18.2652 │ 14.7345 │  0.00894318 │\n",
      "╘═════════╧═════════╧═════════════╛\n"
     ]
    }
   ],
   "source": [
    "lin_reg = LinearRegression()\n",
    "lin_reg.fit(x_train, y_train)\n",
    "predicts = lin_reg.predict(x_test)\n",
    "lin_error = evaluate_model(predicts, y_test)"
   ]
  },
  {
   "cell_type": "code",
   "execution_count": null,
   "id": "f706fd45-0060-429a-a0b3-836b47702316",
   "metadata": {},
   "outputs": [
    {
     "name": "stdout",
     "output_type": "stream",
     "text": [
      "╒═════════╤═════════╤═════════════╕\n",
      "│    RMSE │     MAE │   R Squared │\n",
      "╞═════════╪═════════╪═════════════╡\n",
      "│ 18.2652 │ 14.7345 │  0.00894318 │\n",
      "╘═════════╧═════════╧═════════════╛\n"
     ]
    }
   ],
   "source": [
    "# define hyperparameters to tune\n",
    "params = {'normalize': [True, False],\n",
    "          'fit_intercept': [True, False]}\n",
    "# create linear regression model\n",
    "lr = LinearRegression()\n",
    "\n",
    "# use grid search to find best hyperparameters\n",
    "grid_search = GridSearchCV(lr, param_grid=params, cv=5)\n",
    "grid_search.fit(x_train, y_train)\n",
    "grid_search_pred = grid_search.predict(x_test)\n",
    "\n",
    "lin_error = evaluate_model(grid_search_pred, y_test)"
   ]
  },
  {
   "cell_type": "code",
   "execution_count": null,
   "id": "79470e25-fc4f-43c9-9960-671f87cc8a30",
   "metadata": {},
   "outputs": [
    {
     "name": "stdout",
     "output_type": "stream",
     "text": [
      "╒═════════╤═════════╤═════════════╕\n",
      "│    RMSE │     MAE │   R Squared │\n",
      "╞═════════╪═════════╪═════════════╡\n",
      "│ 18.2589 │ 14.7792 │  0.00962798 │\n",
      "╘═════════╧═════════╧═════════════╛\n"
     ]
    }
   ],
   "source": [
    "## Apply L1 regularization using Lasso regression:\n",
    "lasso_model = Lasso(alpha=0.5)\n",
    "lasso_model.fit(x_train, y_train)\n",
    "y_pred_lasso = lasso_model.predict(x_test)\n",
    "lin_error_prs = evaluate_model(y_pred_lasso, y_test)"
   ]
  },
  {
   "cell_type": "markdown",
   "id": "5bab27d2-d709-406a-a3b5-0577a8c54ccc",
   "metadata": {},
   "source": [
    "## XGBoost regression"
   ]
  },
  {
   "cell_type": "code",
   "execution_count": null,
   "id": "239d9a74-8080-4d22-889b-96d9e3861209",
   "metadata": {},
   "outputs": [
    {
     "name": "stdout",
     "output_type": "stream",
     "text": [
      "╒═════════╤═════════╤═════════════╕\n",
      "│    RMSE │     MAE │   R Squared │\n",
      "╞═════════╪═════════╪═════════════╡\n",
      "│ 25.1338 │ 19.7372 │   -0.876582 │\n",
      "╘═════════╧═════════╧═════════════╛\n"
     ]
    }
   ],
   "source": [
    "xg_reg = xgb.XGBRegressor(objective ='reg:squarederror', colsample_bytree = 0.3, learning_rate = 0.1,\n",
    "                max_depth = 5, alpha = 10, n_estimators = 10)\n",
    "xg_reg.fit(x_train,y_train)\n",
    "\n",
    "predicts = xg_reg.predict(x_test)\n",
    "xg_error = evaluate_model(predicts, y_test)"
   ]
  },
  {
   "cell_type": "code",
   "execution_count": null,
   "id": "1db448b2-6a12-46ab-8b89-5a93fcc0026d",
   "metadata": {},
   "outputs": [
    {
     "name": "stdout",
     "output_type": "stream",
     "text": [
      "╒═════════╤═════════╤═════════════╕\n",
      "│    RMSE │     MAE │   R Squared │\n",
      "╞═════════╪═════════╪═════════════╡\n",
      "│ 18.1569 │ 14.7345 │   0.0206615 │\n",
      "╘═════════╧═════════╧═════════════╛\n"
     ]
    }
   ],
   "source": [
    "param_grid = {\n",
    "    'learning_rate': [0.1, 0.01],\n",
    "    'max_depth': [3, 5, 7],\n",
    "    'n_estimators': [50, 100, 200],\n",
    "    'colsample_bytree': [0.3, 0.5, 0.7]\n",
    "}\n",
    "\n",
    "xg_reg = xgb.XGBRegressor(objective ='reg:squarederror')\n",
    "grid_search = GridSearchCV(xg_reg, param_grid, cv=5, n_jobs=-1)\n",
    "grid_search.fit(x_train, y_train)\n",
    "grid_search_pred = grid_search.predict(x_test)\n",
    "\n",
    "xg_error_prs = evaluate_model(grid_search_pred, y_test)"
   ]
  },
  {
   "cell_type": "markdown",
   "id": "7d5d59f2-afba-48c0-a88e-e202f3d1b9ac",
   "metadata": {},
   "source": [
    "## Comparing linear regression PRS only with all features"
   ]
  },
  {
   "cell_type": "code",
   "execution_count": null,
   "id": "2bd03ab2-3476-4763-b27a-e57126cd83cc",
   "metadata": {},
   "outputs": [
    {
     "name": "stdout",
     "output_type": "stream",
     "text": [
      "Paired t-test results:\n",
      "t-statistic: 0.1511596890519916\n",
      "p-value: 0.879897084621156\n",
      "The difference between the RMSE scores is not statistically significant.\n"
     ]
    }
   ],
   "source": [
    "## Using python package\n",
    "# Perform t-test\n",
    "t_statistic, p_value = ttest_ind(lin_error, lin_error_prs)\n",
    "# Print the results\n",
    "print(\"Paired t-test results:\")\n",
    "print(\"t-statistic:\", t_statistic)\n",
    "print(\"p-value:\", p_value)\n",
    "\n",
    "# Compare the p-value with a significance level alpha (e.g., 0.05)\n",
    "alpha = 0.05\n",
    "if p_value < alpha:\n",
    "    print(\"The difference between the RMSE scores is statistically significant.\")\n",
    "else:\n",
    "    print(\"The difference between the RMSE scores is not statistically significant.\")"
   ]
  },
  {
   "cell_type": "markdown",
   "id": "7a27b4c3-145f-4960-8c72-2adbea088e42",
   "metadata": {},
   "source": [
    "## Comparing XGBoost PRS only with all features"
   ]
  },
  {
   "cell_type": "code",
   "execution_count": null,
   "id": "5bda45d4-90cd-4077-8478-6aa8052f5fbc",
   "metadata": {},
   "outputs": [
    {
     "name": "stdout",
     "output_type": "stream",
     "text": [
      "Paired t-test results:\n",
      "t-statistic: 0.13512652052496038\n",
      "p-value: 0.8925540645047612\n",
      "The difference between the RMSE scores is not statistically significant.\n"
     ]
    }
   ],
   "source": [
    "## Using python package\n",
    "# Perform t-test\n",
    "t_statistic, p_value = ttest_ind(xg_error, xg_error_prs)\n",
    "# Print the results\n",
    "print(\"Paired t-test results:\")\n",
    "print(\"t-statistic:\", t_statistic)\n",
    "print(\"p-value:\", p_value)\n",
    "\n",
    "# Compare the p-value with a significance level alpha (e.g., 0.05)\n",
    "alpha = 0.05\n",
    "if p_value < alpha:\n",
    "    print(\"The difference between the RMSE scores is statistically significant.\")\n",
    "else:\n",
    "    print(\"The difference between the RMSE scores is not statistically significant.\")"
   ]
  },
  {
   "cell_type": "markdown",
   "id": "ed85efe2-fec5-45f8-88f1-f1bbe59ca534",
   "metadata": {},
   "source": [
    "# Exports"
   ]
  },
  {
   "cell_type": "code",
   "execution_count": null,
   "id": "e929bfc9-fe82-4057-93f2-208cc77a7549",
   "metadata": {},
   "outputs": [],
   "source": [
    "#| hide\n",
    "import nbdev; nbdev.nbdev_export()"
   ]
  }
 ],
 "metadata": {
  "kernelspec": {
   "display_name": "Python 3 (ipykernel)",
   "language": "python",
   "name": "python3"
  }
 },
 "nbformat": 4,
 "nbformat_minor": 5
}
